{
 "cells": [
  {
   "cell_type": "code",
   "execution_count": 22,
   "id": "ba74640a",
   "metadata": {},
   "outputs": [],
   "source": [
    "import pandas as pd\n",
    "from matplotlib import pyplot as plt\n",
    "from sklearn.impute import SimpleImputer\n",
    "from sklearn.preprocessing import MinMaxScaler\n",
    "from sklearn.model_selection import train_test_split\n",
    "from sklearn.linear_model import LogisticRegression\n",
    "from sklearn.metrics import confusion_matrix, ConfusionMatrixDisplay\n",
    "from sklearn.metrics import roc_auc_score, confusion_matrix, roc_curve, precision_recall_curve, auc\n",
    "from sklearn.metrics import accuracy_score, precision_score, recall_score, f1_score, roc_curve, roc_auc_score, plot_confusion_matrix"
   ]
  },
  {
   "cell_type": "markdown",
   "id": "b026c25f",
   "metadata": {},
   "source": [
    "=== Coletando os dados: Usado uma base de dados referente a Diabetes ==="
   ]
  },
  {
   "cell_type": "code",
   "execution_count": 23,
   "id": "2c8b76c6",
   "metadata": {},
   "outputs": [
    {
     "data": {
      "text/html": [
       "<div>\n",
       "<style scoped>\n",
       "    .dataframe tbody tr th:only-of-type {\n",
       "        vertical-align: middle;\n",
       "    }\n",
       "\n",
       "    .dataframe tbody tr th {\n",
       "        vertical-align: top;\n",
       "    }\n",
       "\n",
       "    .dataframe thead th {\n",
       "        text-align: right;\n",
       "    }\n",
       "</style>\n",
       "<table border=\"1\" class=\"dataframe\">\n",
       "  <thead>\n",
       "    <tr style=\"text-align: right;\">\n",
       "      <th></th>\n",
       "      <th>Pregnancies</th>\n",
       "      <th>Glucose</th>\n",
       "      <th>BloodPressure</th>\n",
       "      <th>SkinThickness</th>\n",
       "      <th>Insulin</th>\n",
       "      <th>BMI</th>\n",
       "      <th>DiabetesPedigreeFunction</th>\n",
       "      <th>Age</th>\n",
       "      <th>Outcome</th>\n",
       "    </tr>\n",
       "  </thead>\n",
       "  <tbody>\n",
       "    <tr>\n",
       "      <th>0</th>\n",
       "      <td>6</td>\n",
       "      <td>148</td>\n",
       "      <td>72</td>\n",
       "      <td>35</td>\n",
       "      <td>0</td>\n",
       "      <td>33.6</td>\n",
       "      <td>0.627</td>\n",
       "      <td>50</td>\n",
       "      <td>1</td>\n",
       "    </tr>\n",
       "    <tr>\n",
       "      <th>1</th>\n",
       "      <td>1</td>\n",
       "      <td>85</td>\n",
       "      <td>66</td>\n",
       "      <td>29</td>\n",
       "      <td>0</td>\n",
       "      <td>26.6</td>\n",
       "      <td>0.351</td>\n",
       "      <td>31</td>\n",
       "      <td>0</td>\n",
       "    </tr>\n",
       "    <tr>\n",
       "      <th>2</th>\n",
       "      <td>8</td>\n",
       "      <td>183</td>\n",
       "      <td>64</td>\n",
       "      <td>0</td>\n",
       "      <td>0</td>\n",
       "      <td>23.3</td>\n",
       "      <td>0.672</td>\n",
       "      <td>32</td>\n",
       "      <td>1</td>\n",
       "    </tr>\n",
       "    <tr>\n",
       "      <th>3</th>\n",
       "      <td>1</td>\n",
       "      <td>89</td>\n",
       "      <td>66</td>\n",
       "      <td>23</td>\n",
       "      <td>94</td>\n",
       "      <td>28.1</td>\n",
       "      <td>0.167</td>\n",
       "      <td>21</td>\n",
       "      <td>0</td>\n",
       "    </tr>\n",
       "    <tr>\n",
       "      <th>4</th>\n",
       "      <td>0</td>\n",
       "      <td>137</td>\n",
       "      <td>40</td>\n",
       "      <td>35</td>\n",
       "      <td>168</td>\n",
       "      <td>43.1</td>\n",
       "      <td>2.288</td>\n",
       "      <td>33</td>\n",
       "      <td>1</td>\n",
       "    </tr>\n",
       "    <tr>\n",
       "      <th>...</th>\n",
       "      <td>...</td>\n",
       "      <td>...</td>\n",
       "      <td>...</td>\n",
       "      <td>...</td>\n",
       "      <td>...</td>\n",
       "      <td>...</td>\n",
       "      <td>...</td>\n",
       "      <td>...</td>\n",
       "      <td>...</td>\n",
       "    </tr>\n",
       "    <tr>\n",
       "      <th>763</th>\n",
       "      <td>10</td>\n",
       "      <td>101</td>\n",
       "      <td>76</td>\n",
       "      <td>48</td>\n",
       "      <td>180</td>\n",
       "      <td>32.9</td>\n",
       "      <td>0.171</td>\n",
       "      <td>63</td>\n",
       "      <td>0</td>\n",
       "    </tr>\n",
       "    <tr>\n",
       "      <th>764</th>\n",
       "      <td>2</td>\n",
       "      <td>122</td>\n",
       "      <td>70</td>\n",
       "      <td>27</td>\n",
       "      <td>0</td>\n",
       "      <td>36.8</td>\n",
       "      <td>0.340</td>\n",
       "      <td>27</td>\n",
       "      <td>0</td>\n",
       "    </tr>\n",
       "    <tr>\n",
       "      <th>765</th>\n",
       "      <td>5</td>\n",
       "      <td>121</td>\n",
       "      <td>72</td>\n",
       "      <td>23</td>\n",
       "      <td>112</td>\n",
       "      <td>26.2</td>\n",
       "      <td>0.245</td>\n",
       "      <td>30</td>\n",
       "      <td>0</td>\n",
       "    </tr>\n",
       "    <tr>\n",
       "      <th>766</th>\n",
       "      <td>1</td>\n",
       "      <td>126</td>\n",
       "      <td>60</td>\n",
       "      <td>0</td>\n",
       "      <td>0</td>\n",
       "      <td>30.1</td>\n",
       "      <td>0.349</td>\n",
       "      <td>47</td>\n",
       "      <td>1</td>\n",
       "    </tr>\n",
       "    <tr>\n",
       "      <th>767</th>\n",
       "      <td>1</td>\n",
       "      <td>93</td>\n",
       "      <td>70</td>\n",
       "      <td>31</td>\n",
       "      <td>0</td>\n",
       "      <td>30.4</td>\n",
       "      <td>0.315</td>\n",
       "      <td>23</td>\n",
       "      <td>0</td>\n",
       "    </tr>\n",
       "  </tbody>\n",
       "</table>\n",
       "<p>768 rows × 9 columns</p>\n",
       "</div>"
      ],
      "text/plain": [
       "     Pregnancies  Glucose  BloodPressure  SkinThickness  Insulin   BMI  \\\n",
       "0              6      148             72             35        0  33.6   \n",
       "1              1       85             66             29        0  26.6   \n",
       "2              8      183             64              0        0  23.3   \n",
       "3              1       89             66             23       94  28.1   \n",
       "4              0      137             40             35      168  43.1   \n",
       "..           ...      ...            ...            ...      ...   ...   \n",
       "763           10      101             76             48      180  32.9   \n",
       "764            2      122             70             27        0  36.8   \n",
       "765            5      121             72             23      112  26.2   \n",
       "766            1      126             60              0        0  30.1   \n",
       "767            1       93             70             31        0  30.4   \n",
       "\n",
       "     DiabetesPedigreeFunction  Age  Outcome  \n",
       "0                       0.627   50        1  \n",
       "1                       0.351   31        0  \n",
       "2                       0.672   32        1  \n",
       "3                       0.167   21        0  \n",
       "4                       2.288   33        1  \n",
       "..                        ...  ...      ...  \n",
       "763                     0.171   63        0  \n",
       "764                     0.340   27        0  \n",
       "765                     0.245   30        0  \n",
       "766                     0.349   47        1  \n",
       "767                     0.315   23        0  \n",
       "\n",
       "[768 rows x 9 columns]"
      ]
     },
     "execution_count": 23,
     "metadata": {},
     "output_type": "execute_result"
    }
   ],
   "source": [
    "#visualizar a base de dados\n",
    "df = pd.read_csv('diabetes.csv')\n",
    "df"
   ]
  },
  {
   "cell_type": "code",
   "execution_count": 24,
   "id": "8d792cb5",
   "metadata": {},
   "outputs": [
    {
     "name": "stdout",
     "output_type": "stream",
     "text": [
      "Elementos faltantes:\n",
      "Pregnancies                 0\n",
      "Glucose                     0\n",
      "BloodPressure               0\n",
      "SkinThickness               0\n",
      "Insulin                     0\n",
      "BMI                         0\n",
      "DiabetesPedigreeFunction    0\n",
      "Age                         0\n",
      "Outcome                     0\n",
      "dtype: int64\n",
      "\n",
      "Não possui variáveis categóricas no DataFrame.\n"
     ]
    }
   ],
   "source": [
    "#VERIFICANDO SE POSSUI ELEMENTOS FALTANTES NO DATAFRAME\n",
    "\n",
    "print(f\"Elementos faltantes:\\n{df.isna().sum()}\\n\") \n",
    "#imputer = SimpleImputer(strategy='mean')\n",
    "#df[[\"Glucose\", \"BloodPressure\", \"Skin Thickness\", \"Insulin\", \"BMI\", \"Age\"]] = imputer.fit_transform(df[[\"Glucose\", \"BloodPressure\", \"SkinThickness\", \"Insulin\", \"BMI\", \"Age\"]])\n",
    "\n",
    "\n",
    "#VERIFICANDO SE POSSUI VARIÁVEL CATEGÓRICA NO DATAFRAME\n",
    "\n",
    "coluna_categorica = df.select_dtypes(include=['object']) #usado para selecionar todas as colunas de tipo 'object' no DataFrame. \n",
    "\n",
    "if coluna_categorica.empty:\n",
    "    print(\"Não possui variáveis categóricas no DataFrame.\")\n",
    "else:\n",
    "    print(\"Variáveis categóricas nas colunas fornecidas:\")\n",
    "    print(coluna_categorica)"
   ]
  },
  {
   "cell_type": "markdown",
   "id": "b7b40995",
   "metadata": {},
   "source": [
    "=== Dividindo o DataFrame em Treino e Teste ==="
   ]
  },
  {
   "cell_type": "code",
   "execution_count": 25,
   "id": "74ec2d16",
   "metadata": {},
   "outputs": [],
   "source": [
    "#As colunas: [\"Glucose\", \"BloodPressure\", \"Skin Thickness\", \"Insulin\", \"BMI\", \"Age\"] são as váriaveis independentes\n",
    "#A coluna (\"Outcome\" representa se um paciente tem diabetes ou não)\n",
    "#Regressao logistica é uma técnica que usa matematica para encontrar relações entre dois fatores. \n",
    "#Depois é usada para prever o valor de um desses fatores com base no outro.\n",
    "\n",
    "XTrain, XTest, yTrain, yTest = train_test_split(df[[\"Glucose\", \"BloodPressure\", \"SkinThickness\", \"Insulin\", \"BMI\", \"Age\"]], df[\"Outcome\"], test_size = 0.2)"
   ]
  },
  {
   "cell_type": "code",
   "execution_count": 26,
   "id": "24e20a98",
   "metadata": {},
   "outputs": [
    {
     "data": {
      "text/plain": [
       "LogisticRegression()"
      ]
     },
     "execution_count": 26,
     "metadata": {},
     "output_type": "execute_result"
    }
   ],
   "source": [
    "model = LogisticRegression()\n",
    "model.fit(XTrain, yTrain)"
   ]
  },
  {
   "cell_type": "markdown",
   "id": "eda61347",
   "metadata": {},
   "source": [
    "=== Avaliando o modelo ==="
   ]
  },
  {
   "cell_type": "code",
   "execution_count": 27,
   "id": "277eadf3",
   "metadata": {},
   "outputs": [
    {
     "name": "stdout",
     "output_type": "stream",
     "text": [
      "     Outcome  Predição\n",
      "396        0         0\n",
      "712        1         1\n",
      "423        0         0\n",
      "254        1         0\n",
      "475        0         1\n",
      "..       ...       ...\n",
      "659        1         0\n",
      "266        1         1\n",
      "552        0         0\n",
      "621        0         0\n",
      "413        0         0\n",
      "\n",
      "[154 rows x 2 columns]\n",
      "\n",
      "Acurácia: 0.7142857142857143\n",
      "\n",
      "Precisão: 0.6808510638297872\n",
      "\n",
      "Recall: 0.5245901639344263\n",
      "\n",
      "F1-score: 0.5925925925925926\n"
     ]
    }
   ],
   "source": [
    "yPred = model.predict(XTest) #realiza as previsoes no modelo treinado\n",
    "\n",
    "dfComparacao = pd.DataFrame(yTest) \n",
    "dfComparacao[\"Predição\"] = yPred\n",
    "print(dfComparacao)\n",
    "\n",
    "#A acurácia mede a proporção de previsões corretas feitas pelo modelo em relação ao total de previsões.\n",
    "# Quanto mais alta a acurácia, melhor o desempenho do modelo em fazer previsões precisas\n",
    "accuracy = accuracy_score(yTest, yPred)\n",
    "\n",
    "# A precisão se concentra em quão precisas são as previsões positivas do modelo. \n",
    "#A precisão é uma métrica importante, especialmente em casos em que prever falsos positivos é indesejável\n",
    "#Quanto maior a precisão, melhor o modelo é em evitar previsões positivas incorretas.\n",
    "precision = precision_score(yTest, yPred) \n",
    "\n",
    "# O recall se concentra em quão bem o modelo é capaz de capturar todas as instâncias positivas do conjunto de dados.\n",
    "# O recall é uma métrica importante, especialmente em situações em que a não detecção de instâncias positivas (falsos negativos) é indesejável. \n",
    "# Quanto maior o recall, melhor o modelo é em identificar corretamente as instâncias positivas.\n",
    "recall = recall_score(yTest, yPred) \n",
    "\n",
    "#F1_Score é uma métrica que combina a precisão (proporção de previsões positivas corretas) e o recall (proporção de instâncias positivas reais que foram corretamente identificadas pelo modelo) em um único valor.\n",
    "# Essa métrica fornece um equilíbrio entre precisão e recall.\n",
    "#Um valor alto de F1-Score indica um equilíbrio positivo entre a precisão e o recall do modelo.\n",
    "f1 = f1_score(yTest, yPred) \n",
    "\n",
    "print(f\"\\nAcurácia: {accuracy}\")\n",
    "print(f\"\\nPrecisão: {precision}\")\n",
    "print(f\"\\nRecall: {recall}\")\n",
    "print(f\"\\nF1-score: {f1}\")"
   ]
  },
  {
   "cell_type": "markdown",
   "id": "1f368c95",
   "metadata": {},
   "source": [
    "=== Visualização === "
   ]
  },
  {
   "cell_type": "code",
   "execution_count": 28,
   "id": "c397dda4",
   "metadata": {},
   "outputs": [
    {
     "name": "stdout",
     "output_type": "stream",
     "text": [
      "     Verdadeiro  Predição\n",
      "396           0         0\n",
      "712           1         1\n",
      "423           0         0\n",
      "254           1         0\n",
      "475           0         1\n",
      "..          ...       ...\n",
      "659           1         0\n",
      "266           1         1\n",
      "552           0         0\n",
      "621           0         0\n",
      "413           0         0\n",
      "\n",
      "[154 rows x 2 columns]\n",
      "Acurácia: 0.7142857142857143\n",
      "Precisão: 0.6808510638297872\n",
      "Recall: 0.5245901639344263\n",
      "F1-score: 0.5925925925925926\n"
     ]
    },
    {
     "data": {
      "image/png": "[encoded data removed]",
      "text/plain": [
       "<Figure size 432x288 with 2 Axes>"
      ]
     },
     "metadata": {
      "needs_background": "light"
     },
     "output_type": "display_data"
    }
   ],
   "source": [
    "yPred = model.predict(XTest)\n",
    "\n",
    "df_resultado = pd.DataFrame({'Verdadeiro': yTest, 'Predição': yPred})\n",
    "print(df_resultado)\n",
    "\n",
    "accuracy = accuracy_score(yTest, yPred)\n",
    "precision = precision_score(yTest, yPred)\n",
    "recall = recall_score(yTest, yPred)\n",
    "f1 = f1_score(yTest, yPred)\n",
    "\n",
    "print(f\"Acurácia: {accuracy}\")\n",
    "print(f\"Precisão: {precision}\")\n",
    "print(f\"Recall: {recall}\")\n",
    "print(f\"F1-score: {f1}\")\n",
    "\n",
    "# Calcule a matriz de confusão usando sklearn\n",
    "matriz = confusion_matrix(yTest, yPred)\n",
    "\n",
    "# Crie uma exibição da matriz de confusão e a exiba\n",
    "disp = ConfusionMatrixDisplay(confusion_matrix=matriz)\n",
    "disp.plot()\n",
    "plt.show()\n"
   ]
  },
  {
   "cell_type": "markdown",
   "id": "c6a673a7",
   "metadata": {},
   "source": [
    "=== Observações === "
   ]
  },
  {
   "cell_type": "markdown",
   "id": "a2597f2a",
   "metadata": {},
   "source": [
    "Acurácia: 0.7532 = Isso significa que 75,32% das previsões feitas pelo modelo estão corretas em relação ao conjunto de teste.\n",
    "\n",
    "\n",
    "Precisão: 0.7 =  O nosso modelo prevê a presença de diabetes e está correto em cerca de 70% das vezes.\n",
    "\n",
    "\n",
    "Recall: 0.5185 = O modelo é capaz de identificar corretamente cerca de 51,85% das instâncias de diabetes no conjunto de teste. O modelo pode não estar capturando todas as instâncias de diabetes, o que pode resultar em falsos negativos.\n",
    "\n",
    "\n",
    "F1-score: 0.59 = Indica um equilíbrio razoável entre precisão e recall."
   ]
  },
  {
   "cell_type": "code",
   "execution_count": null,
   "id": "9eba2cb0",
   "metadata": {},
   "outputs": [],
   "source": []
  }
 ],
 "metadata": {
  "kernelspec": {
   "display_name": "Python 3 (ipykernel)",
   "language": "python",
   "name": "python3"
  },
  "language_info": {
   "codemirror_mode": {
    "name": "ipython",
    "version": 3
   },
   "file_extension": ".py",
   "mimetype": "text/x-python",
   "name": "python",
   "nbconvert_exporter": "python",
   "pygments_lexer": "ipython3",
   "version": "3.9.12"
  }
 },
 "nbformat": 4,
 "nbformat_minor": 5
}

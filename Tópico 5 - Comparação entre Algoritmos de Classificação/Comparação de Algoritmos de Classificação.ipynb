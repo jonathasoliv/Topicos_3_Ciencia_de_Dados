{
 "cells": [
  {
   "cell_type": "code",
   "execution_count": 14,
   "id": "9dc23c54",
   "metadata": {},
   "outputs": [],
   "source": [
    "import pandas as pd\n",
    "from sklearn.impute import SimpleImputer\n",
    "from sklearn.preprocessing import MinMaxScaler\n",
    "from sklearn.model_selection import train_test_split\n",
    "from sklearn.utils import resample\n",
    "import seaborn as sns\n",
    "import matplotlib.pyplot as plt\n",
    "from sklearn.metrics import classification_report\n",
    "from sklearn.linear_model import LogisticRegression\n",
    "from sklearn.neighbors import KNeighborsClassifier\n",
    "from sklearn.tree import DecisionTreeClassifier\n",
    "from sklearn.metrics import accuracy_score, precision_score, recall_score, f1_score,ConfusionMatrixDisplay,confusion_matrix\n"
   ]
  },
  {
   "cell_type": "markdown",
   "id": "0a8d0122",
   "metadata": {},
   "source": [
    "# Coletando os dados"
   ]
  },
  {
   "cell_type": "code",
   "execution_count": 16,
   "id": "63783762",
   "metadata": {},
   "outputs": [
    {
     "data": {
      "text/html": [
       "<div>\n",
       "<style scoped>\n",
       "    .dataframe tbody tr th:only-of-type {\n",
       "        vertical-align: middle;\n",
       "    }\n",
       "\n",
       "    .dataframe tbody tr th {\n",
       "        vertical-align: top;\n",
       "    }\n",
       "\n",
       "    .dataframe thead th {\n",
       "        text-align: right;\n",
       "    }\n",
       "</style>\n",
       "<table border=\"1\" class=\"dataframe\">\n",
       "  <thead>\n",
       "    <tr style=\"text-align: right;\">\n",
       "      <th></th>\n",
       "      <th>Glucose</th>\n",
       "      <th>BloodPressure</th>\n",
       "      <th>Skin Thickness</th>\n",
       "      <th>Insulin</th>\n",
       "      <th>BMI</th>\n",
       "      <th>Age</th>\n",
       "      <th>Outcome</th>\n",
       "    </tr>\n",
       "  </thead>\n",
       "  <tbody>\n",
       "    <tr>\n",
       "      <th>0</th>\n",
       "      <td>148.0</td>\n",
       "      <td>72.0</td>\n",
       "      <td>35.0</td>\n",
       "      <td>NaN</td>\n",
       "      <td>33.6</td>\n",
       "      <td>50</td>\n",
       "      <td>1</td>\n",
       "    </tr>\n",
       "    <tr>\n",
       "      <th>1</th>\n",
       "      <td>85.0</td>\n",
       "      <td>66.0</td>\n",
       "      <td>29.0</td>\n",
       "      <td>NaN</td>\n",
       "      <td>26.6</td>\n",
       "      <td>31</td>\n",
       "      <td>0</td>\n",
       "    </tr>\n",
       "    <tr>\n",
       "      <th>2</th>\n",
       "      <td>183.0</td>\n",
       "      <td>64.0</td>\n",
       "      <td>NaN</td>\n",
       "      <td>NaN</td>\n",
       "      <td>23.3</td>\n",
       "      <td>32</td>\n",
       "      <td>1</td>\n",
       "    </tr>\n",
       "    <tr>\n",
       "      <th>3</th>\n",
       "      <td>89.0</td>\n",
       "      <td>66.0</td>\n",
       "      <td>23.0</td>\n",
       "      <td>94.0</td>\n",
       "      <td>28.1</td>\n",
       "      <td>21</td>\n",
       "      <td>0</td>\n",
       "    </tr>\n",
       "    <tr>\n",
       "      <th>4</th>\n",
       "      <td>137.0</td>\n",
       "      <td>40.0</td>\n",
       "      <td>35.0</td>\n",
       "      <td>168.0</td>\n",
       "      <td>43.1</td>\n",
       "      <td>33</td>\n",
       "      <td>1</td>\n",
       "    </tr>\n",
       "    <tr>\n",
       "      <th>...</th>\n",
       "      <td>...</td>\n",
       "      <td>...</td>\n",
       "      <td>...</td>\n",
       "      <td>...</td>\n",
       "      <td>...</td>\n",
       "      <td>...</td>\n",
       "      <td>...</td>\n",
       "    </tr>\n",
       "    <tr>\n",
       "      <th>763</th>\n",
       "      <td>101.0</td>\n",
       "      <td>76.0</td>\n",
       "      <td>48.0</td>\n",
       "      <td>180.0</td>\n",
       "      <td>32.9</td>\n",
       "      <td>63</td>\n",
       "      <td>0</td>\n",
       "    </tr>\n",
       "    <tr>\n",
       "      <th>764</th>\n",
       "      <td>122.0</td>\n",
       "      <td>70.0</td>\n",
       "      <td>27.0</td>\n",
       "      <td>NaN</td>\n",
       "      <td>36.8</td>\n",
       "      <td>27</td>\n",
       "      <td>0</td>\n",
       "    </tr>\n",
       "    <tr>\n",
       "      <th>765</th>\n",
       "      <td>121.0</td>\n",
       "      <td>72.0</td>\n",
       "      <td>23.0</td>\n",
       "      <td>112.0</td>\n",
       "      <td>26.2</td>\n",
       "      <td>30</td>\n",
       "      <td>0</td>\n",
       "    </tr>\n",
       "    <tr>\n",
       "      <th>766</th>\n",
       "      <td>126.0</td>\n",
       "      <td>60.0</td>\n",
       "      <td>NaN</td>\n",
       "      <td>NaN</td>\n",
       "      <td>30.1</td>\n",
       "      <td>47</td>\n",
       "      <td>1</td>\n",
       "    </tr>\n",
       "    <tr>\n",
       "      <th>767</th>\n",
       "      <td>93.0</td>\n",
       "      <td>70.0</td>\n",
       "      <td>31.0</td>\n",
       "      <td>NaN</td>\n",
       "      <td>30.4</td>\n",
       "      <td>23</td>\n",
       "      <td>0</td>\n",
       "    </tr>\n",
       "  </tbody>\n",
       "</table>\n",
       "<p>768 rows × 7 columns</p>\n",
       "</div>"
      ],
      "text/plain": [
       "     Glucose  BloodPressure  Skin Thickness  Insulin   BMI  Age  Outcome\n",
       "0      148.0           72.0            35.0      NaN  33.6   50        1\n",
       "1       85.0           66.0            29.0      NaN  26.6   31        0\n",
       "2      183.0           64.0             NaN      NaN  23.3   32        1\n",
       "3       89.0           66.0            23.0     94.0  28.1   21        0\n",
       "4      137.0           40.0            35.0    168.0  43.1   33        1\n",
       "..       ...            ...             ...      ...   ...  ...      ...\n",
       "763    101.0           76.0            48.0    180.0  32.9   63        0\n",
       "764    122.0           70.0            27.0      NaN  36.8   27        0\n",
       "765    121.0           72.0            23.0    112.0  26.2   30        0\n",
       "766    126.0           60.0             NaN      NaN  30.1   47        1\n",
       "767     93.0           70.0            31.0      NaN  30.4   23        0\n",
       "\n",
       "[768 rows x 7 columns]"
      ]
     },
     "execution_count": 16,
     "metadata": {},
     "output_type": "execute_result"
    }
   ],
   "source": [
    "df = pd.read_csv('diabetesTeste.csv')\n",
    "df\n",
    "\n",
    "#Glicose, Pressão Sanguínea, Espessura da Pele, Insulina, Índice de Massa Corporal, Idade, Tem ou não diabetes"
   ]
  },
  {
   "cell_type": "markdown",
   "id": "e501b033",
   "metadata": {},
   "source": [
    "# Pré-processamento dos dados "
   ]
  },
  {
   "cell_type": "raw",
   "id": "54c334ea",
   "metadata": {},
   "source": [
    "-> Normalização dos dados\n",
    "-> Elementos Faltantes\n",
    "-> Variáveis Categoricas"
   ]
  },
  {
   "cell_type": "code",
   "execution_count": 17,
   "id": "fb6fea92",
   "metadata": {},
   "outputs": [
    {
     "name": "stdout",
     "output_type": "stream",
     "text": [
      "Elementos faltantes:\n",
      "Glucose             5\n",
      "BloodPressure      35\n",
      "Skin Thickness    227\n",
      "Insulin           374\n",
      "BMI                11\n",
      "Age                 0\n",
      "Outcome             0\n",
      "dtype: int64\n",
      "\n",
      "Não há variáveis categóricas\n",
      "\n"
     ]
    }
   ],
   "source": [
    "print(f\"Elementos faltantes:\\n{df.isna().sum()}\\n\") \n",
    "\n",
    "#preechendo os elementos faltantes com a média da coluna\n",
    "imputer = SimpleImputer(strategy='mean') \n",
    "df[[\"Glucose\", \"BloodPressure\", \"Skin Thickness\", \"Insulin\", \"BMI\", \"Age\"]] = imputer.fit_transform(df[[\"Glucose\", \"BloodPressure\", \"Skin Thickness\", \"Insulin\", \"BMI\", \"Age\"]])\n",
    "\n",
    "print(\"Não há variáveis categóricas\\n\")\n",
    "\n",
    "# Calcula os valores mínimos e máximos necessários para normalização no intervalo [0,1]\n",
    "scaler = MinMaxScaler()\n",
    "df[[\"Glucose\", \"BloodPressure\", \"Skin Thickness\", \"Insulin\", \"BMI\", \"Age\"]] = scaler.fit_transform(df[[\"Glucose\", \"BloodPressure\", \"Skin Thickness\", \"Insulin\", \"BMI\", \"Age\"]])\n",
    "\n"
   ]
  },
  {
   "cell_type": "markdown",
   "id": "dd513a6f",
   "metadata": {},
   "source": [
    "# DataFrame original após o tratamento dos elementos faltantes"
   ]
  },
  {
   "cell_type": "code",
   "execution_count": 18,
   "id": "863b97c9",
   "metadata": {},
   "outputs": [
    {
     "name": "stdout",
     "output_type": "stream",
     "text": [
      "DataFrame salvo com sucesso! A partir de agora, utilizar o novo arquivo: Diabetes_atual.csv\n"
     ]
    },
    {
     "data": {
      "text/html": [
       "<div>\n",
       "<style scoped>\n",
       "    .dataframe tbody tr th:only-of-type {\n",
       "        vertical-align: middle;\n",
       "    }\n",
       "\n",
       "    .dataframe tbody tr th {\n",
       "        vertical-align: top;\n",
       "    }\n",
       "\n",
       "    .dataframe thead th {\n",
       "        text-align: right;\n",
       "    }\n",
       "</style>\n",
       "<table border=\"1\" class=\"dataframe\">\n",
       "  <thead>\n",
       "    <tr style=\"text-align: right;\">\n",
       "      <th></th>\n",
       "      <th>Glucose</th>\n",
       "      <th>BloodPressure</th>\n",
       "      <th>Skin Thickness</th>\n",
       "      <th>Insulin</th>\n",
       "      <th>BMI</th>\n",
       "      <th>Age</th>\n",
       "      <th>Outcome</th>\n",
       "    </tr>\n",
       "  </thead>\n",
       "  <tbody>\n",
       "    <tr>\n",
       "      <th>0</th>\n",
       "      <td>0.670968</td>\n",
       "      <td>0.489796</td>\n",
       "      <td>0.304348</td>\n",
       "      <td>0.170130</td>\n",
       "      <td>0.314928</td>\n",
       "      <td>0.483333</td>\n",
       "      <td>1</td>\n",
       "    </tr>\n",
       "    <tr>\n",
       "      <th>1</th>\n",
       "      <td>0.264516</td>\n",
       "      <td>0.428571</td>\n",
       "      <td>0.239130</td>\n",
       "      <td>0.170130</td>\n",
       "      <td>0.171779</td>\n",
       "      <td>0.166667</td>\n",
       "      <td>0</td>\n",
       "    </tr>\n",
       "    <tr>\n",
       "      <th>2</th>\n",
       "      <td>0.896774</td>\n",
       "      <td>0.408163</td>\n",
       "      <td>0.240798</td>\n",
       "      <td>0.170130</td>\n",
       "      <td>0.104294</td>\n",
       "      <td>0.183333</td>\n",
       "      <td>1</td>\n",
       "    </tr>\n",
       "    <tr>\n",
       "      <th>3</th>\n",
       "      <td>0.290323</td>\n",
       "      <td>0.428571</td>\n",
       "      <td>0.173913</td>\n",
       "      <td>0.096154</td>\n",
       "      <td>0.202454</td>\n",
       "      <td>0.000000</td>\n",
       "      <td>0</td>\n",
       "    </tr>\n",
       "    <tr>\n",
       "      <th>4</th>\n",
       "      <td>0.600000</td>\n",
       "      <td>0.163265</td>\n",
       "      <td>0.304348</td>\n",
       "      <td>0.185096</td>\n",
       "      <td>0.509202</td>\n",
       "      <td>0.200000</td>\n",
       "      <td>1</td>\n",
       "    </tr>\n",
       "    <tr>\n",
       "      <th>...</th>\n",
       "      <td>...</td>\n",
       "      <td>...</td>\n",
       "      <td>...</td>\n",
       "      <td>...</td>\n",
       "      <td>...</td>\n",
       "      <td>...</td>\n",
       "      <td>...</td>\n",
       "    </tr>\n",
       "    <tr>\n",
       "      <th>763</th>\n",
       "      <td>0.367742</td>\n",
       "      <td>0.530612</td>\n",
       "      <td>0.445652</td>\n",
       "      <td>0.199519</td>\n",
       "      <td>0.300613</td>\n",
       "      <td>0.700000</td>\n",
       "      <td>0</td>\n",
       "    </tr>\n",
       "    <tr>\n",
       "      <th>764</th>\n",
       "      <td>0.503226</td>\n",
       "      <td>0.469388</td>\n",
       "      <td>0.217391</td>\n",
       "      <td>0.170130</td>\n",
       "      <td>0.380368</td>\n",
       "      <td>0.100000</td>\n",
       "      <td>0</td>\n",
       "    </tr>\n",
       "    <tr>\n",
       "      <th>765</th>\n",
       "      <td>0.496774</td>\n",
       "      <td>0.489796</td>\n",
       "      <td>0.173913</td>\n",
       "      <td>0.117788</td>\n",
       "      <td>0.163599</td>\n",
       "      <td>0.150000</td>\n",
       "      <td>0</td>\n",
       "    </tr>\n",
       "    <tr>\n",
       "      <th>766</th>\n",
       "      <td>0.529032</td>\n",
       "      <td>0.367347</td>\n",
       "      <td>0.240798</td>\n",
       "      <td>0.170130</td>\n",
       "      <td>0.243354</td>\n",
       "      <td>0.433333</td>\n",
       "      <td>1</td>\n",
       "    </tr>\n",
       "    <tr>\n",
       "      <th>767</th>\n",
       "      <td>0.316129</td>\n",
       "      <td>0.469388</td>\n",
       "      <td>0.260870</td>\n",
       "      <td>0.170130</td>\n",
       "      <td>0.249489</td>\n",
       "      <td>0.033333</td>\n",
       "      <td>0</td>\n",
       "    </tr>\n",
       "  </tbody>\n",
       "</table>\n",
       "<p>768 rows × 7 columns</p>\n",
       "</div>"
      ],
      "text/plain": [
       "      Glucose  BloodPressure  Skin Thickness   Insulin       BMI       Age  \\\n",
       "0    0.670968       0.489796        0.304348  0.170130  0.314928  0.483333   \n",
       "1    0.264516       0.428571        0.239130  0.170130  0.171779  0.166667   \n",
       "2    0.896774       0.408163        0.240798  0.170130  0.104294  0.183333   \n",
       "3    0.290323       0.428571        0.173913  0.096154  0.202454  0.000000   \n",
       "4    0.600000       0.163265        0.304348  0.185096  0.509202  0.200000   \n",
       "..        ...            ...             ...       ...       ...       ...   \n",
       "763  0.367742       0.530612        0.445652  0.199519  0.300613  0.700000   \n",
       "764  0.503226       0.469388        0.217391  0.170130  0.380368  0.100000   \n",
       "765  0.496774       0.489796        0.173913  0.117788  0.163599  0.150000   \n",
       "766  0.529032       0.367347        0.240798  0.170130  0.243354  0.433333   \n",
       "767  0.316129       0.469388        0.260870  0.170130  0.249489  0.033333   \n",
       "\n",
       "     Outcome  \n",
       "0          1  \n",
       "1          0  \n",
       "2          1  \n",
       "3          0  \n",
       "4          1  \n",
       "..       ...  \n",
       "763        0  \n",
       "764        0  \n",
       "765        0  \n",
       "766        1  \n",
       "767        0  \n",
       "\n",
       "[768 rows x 7 columns]"
      ]
     },
     "execution_count": 18,
     "metadata": {},
     "output_type": "execute_result"
    }
   ],
   "source": [
    "novo_arquivo = 'Diabetes_atual.csv'\n",
    "\n",
    "# Salvando o DataFrame resultante em um novo arquivo CSV\n",
    "df.to_csv(novo_arquivo, index=False) \n",
    "\n",
    "print(f'DataFrame salvo com sucesso! A partir de agora, utilizar o novo arquivo: {novo_arquivo}')\n",
    "\n",
    "df = pd.read_csv('Diabetes_atual.csv')\n",
    "df"
   ]
  },
  {
   "cell_type": "markdown",
   "id": "4470132f",
   "metadata": {},
   "source": [
    "# Implementação e Treino"
   ]
  },
  {
   "cell_type": "code",
   "execution_count": 19,
   "id": "1f1e27ef",
   "metadata": {},
   "outputs": [],
   "source": [
    "# Estamos usando 30% de teste e %70% de treinamento\n",
    "\n",
    "XTrain, XTest, yTrain, yTest = train_test_split(df[[\"Glucose\", \"BloodPressure\", \"Skin Thickness\", \"Insulin\", \"BMI\", \"Age\"]], df[\"Outcome\"], test_size = 0.3)"
   ]
  },
  {
   "cell_type": "code",
   "execution_count": 20,
   "id": "72ac8a9e",
   "metadata": {},
   "outputs": [
    {
     "data": {
      "text/plain": [
       "DecisionTreeClassifier(random_state=0)"
      ]
     },
     "execution_count": 20,
     "metadata": {},
     "output_type": "execute_result"
    }
   ],
   "source": [
    "# O modelo ajusta os parâmetros (coeficientes) para minimizar a função de custo, \n",
    "#  que mede a diferença entre as previsões do modelo e os rótulos reais.\n",
    "\n",
    "modelLogistic = LogisticRegression()\n",
    "modelLogistic.fit(XTrain, yTrain) # Treinando o modelo de regressão logística nos dados de treinamento.\n",
    "\n",
    "########################################################################################################################\n",
    "\n",
    "\n",
    "# O algoritmo KNN faz previsões atribuindo a classe mais comum entre os k vizinhos mais próximos da instância de entrada.\n",
    "# A ideia central do KNN é classificar ou prever novas instâncias com base nas classes das instâncias vizinhas no espaço de características.\n",
    "# Utilize uma métrica de distância (geralmente a distância euclidiana) para calcular a similaridade entre os pontos de dados. \n",
    "# Quanto menor a distância, mais similar são os pontos.\n",
    "\n",
    "k = 5  #número de vizinhos a serem considerados no algoritmo KNN\n",
    "modelKnn = KNeighborsClassifier(n_neighbors = k)  #cria o modelo KNN\n",
    "modelKnn.fit(XTrain, yTrain) #Treina o modelo\n",
    "\n",
    "##########################################################################################################################\n",
    "\n",
    "\n",
    "#Durante o treinamento, a árvore de decisão faz divisões nas características com base em critérios como entropia ou índice Gini\n",
    "# tentando criar ramos que melhor separam as instâncias pertencentes a diferentes classes.\n",
    "\n",
    "modelDT = DecisionTreeClassifier(random_state=0) #garantir que os resultados sejam os mesmos em diferentes execuções do código.\n",
    "modelDT.fit(XTrain, yTrain)"
   ]
  },
  {
   "cell_type": "markdown",
   "id": "5d2913ef",
   "metadata": {},
   "source": [
    "# Avaliando o modelo Regressão Logistica"
   ]
  },
  {
   "cell_type": "code",
   "execution_count": 24,
   "id": "28bee68b",
   "metadata": {},
   "outputs": [
    {
     "name": "stdout",
     "output_type": "stream",
     "text": [
      "     Verdadeiro  Predição\n",
      "522           0         0\n",
      "720           0         0\n",
      "658           0         1\n",
      "442           0         0\n",
      "118           0         0\n",
      "..          ...       ...\n",
      "344           0         0\n",
      "55            0         0\n",
      "123           0         1\n",
      "476           1         0\n",
      "705           0         0\n",
      "\n",
      "[231 rows x 2 columns]\n",
      "Acurácia: 0.7705627705627706\n",
      "Precisão: 0.6290322580645161\n",
      "Recall: 0.5652173913043478\n",
      "F1-score: 0.5954198473282443\n"
     ]
    },
    {
     "data": {
      "image/png": "[encoded data removed]",
      "text/plain": [
       "<Figure size 432x288 with 2 Axes>"
      ]
     },
     "metadata": {
      "needs_background": "light"
     },
     "output_type": "display_data"
    }
   ],
   "source": [
    "yPred = modelLogistic.predict(XTest) #realiza as previsoes no modelo treinado\n",
    "\n",
    "df_resultado = pd.DataFrame({'Verdadeiro': yTest, 'Predição': yPred})\n",
    "print(df_resultado)\n",
    "\n",
    "#A acurácia mede a proporção de previsões corretas feitas pelo modelo em relação ao total de previsões.\n",
    "# Quanto mais alta a acurácia, melhor o desempenho do modelo em fazer previsões precisas\n",
    "accuracy = accuracy_score(yTest, yPred)\n",
    "\n",
    "# A precisão se concentra em quão precisas são as previsões positivas do modelo. \n",
    "#A precisão é uma métrica importante, especialmente em casos em que prever falsos positivos é indesejável\n",
    "#Quanto maior a precisão, melhor o modelo é em evitar previsões positivas incorretas.\n",
    "precision = precision_score(yTest, yPred)\n",
    "\n",
    "# O recall se concentra em quão bem o modelo é capaz de capturar todas as instâncias positivas do conjunto de dados.\n",
    "# O recall é uma métrica importante, especialmente em situações em que a não detecção de instâncias positivas (falsos negativos) é indesejável. \n",
    "# Quanto maior o recall, melhor o modelo é em identificar corretamente as instâncias positivas.\n",
    "recall = recall_score(yTest, yPred)\n",
    "\n",
    "# F1_Score é uma métrica que combina a precisão (proporção de previsões positivas corretas) e o recall (proporção de instâncias positivas reais que foram corretamente identificadas pelo modelo) em um único valor.\n",
    "# Essa métrica fornece um equilíbrio entre precisão e recall.\n",
    "# Um valor alto de F1-Score indica um equilíbrio positivo entre a precisão e o recall do modelo.\n",
    "f1 = f1_score(yTest, yPred)\n",
    "\n",
    "print(f\"Acurácia: {accuracy}\")\n",
    "print(f\"Precisão: {precision}\")\n",
    "print(f\"Recall: {recall}\")\n",
    "print(f\"F1-score: {f1}\")\n",
    "\n",
    "# Calculando a matriz de confusão usando sklearn\n",
    "matriz = confusion_matrix(yTest, yPred)\n",
    "\n",
    "# Criando uma exibição da matriz de confusão\n",
    "disp = ConfusionMatrixDisplay(confusion_matrix=matriz)\n",
    "disp.plot()\n",
    "plt.show()"
   ]
  },
  {
   "cell_type": "markdown",
   "id": "458f2cc1",
   "metadata": {},
   "source": [
    "# Avaliando o modelo KNN"
   ]
  },
  {
   "cell_type": "code",
   "execution_count": 25,
   "id": "0b131852",
   "metadata": {},
   "outputs": [
    {
     "name": "stdout",
     "output_type": "stream",
     "text": [
      "Comparação - KNN\n",
      "     Verdadeiro  Predição\n",
      "522           0         1\n",
      "720           0         0\n",
      "658           0         1\n",
      "442           0         0\n",
      "118           0         0\n",
      "..          ...       ...\n",
      "344           0         0\n",
      "55            0         0\n",
      "123           0         0\n",
      "476           1         0\n",
      "705           0         0\n",
      "\n",
      "[231 rows x 2 columns]\n",
      "Acurácia: 0.7489177489177489\n",
      "Precisão: 0.5679012345679012\n",
      "Recall: 0.6666666666666666\n",
      "F1-score: 0.6133333333333333\n"
     ]
    },
    {
     "data": {
      "image/png": "[encoded data removed]",
      "text/plain": [
       "<Figure size 432x288 with 2 Axes>"
      ]
     },
     "metadata": {
      "needs_background": "light"
     },
     "output_type": "display_data"
    }
   ],
   "source": [
    "# Gerando previsões usando o modelo KNN\n",
    "yPredKnn = modelKnn.predict(XTest)\n",
    "\n",
    "# Criando um DataFrame que compara os rótulos verdadeiros com as previsões\n",
    "df_resultado_knn = pd.DataFrame({'Verdadeiro': yTest, 'Predição': yPredKnn})\n",
    "print(\"Comparação - KNN\")\n",
    "print(df_resultado_knn)\n",
    "\n",
    "# Calculando e imprima métricas de desempenho\n",
    "accuracy_knn = accuracy_score(yTest, yPredKnn)\n",
    "precision_knn = precision_score(yTest, yPredKnn)\n",
    "recall_knn = recall_score(yTest, yPredKnn)\n",
    "f1_knn = f1_score(yTest, yPredKnn)\n",
    "\n",
    "print(f\"Acurácia: {accuracy_knn}\")\n",
    "print(f\"Precisão: {precision_knn}\")\n",
    "print(f\"Recall: {recall_knn}\")\n",
    "print(f\"F1-score: {f1_knn}\")\n",
    "\n",
    "# Calculando a matriz de confusão usando sklearn\n",
    "matriz_knn = confusion_matrix(yTest, yPredKnn)\n",
    "\n",
    "# Criando uma exibição da matriz de confusão\n",
    "disp_knn = ConfusionMatrixDisplay(confusion_matrix=matriz_knn)\n",
    "disp_knn.plot()\n",
    "plt.show()"
   ]
  },
  {
   "cell_type": "markdown",
   "id": "ecad842c",
   "metadata": {},
   "source": [
    "# Avaliando o modelo Arvore de Decisão "
   ]
  },
  {
   "cell_type": "code",
   "execution_count": 26,
   "id": "d8675ccb",
   "metadata": {},
   "outputs": [
    {
     "name": "stdout",
     "output_type": "stream",
     "text": [
      "Comparação - Árvore de Decisão\n",
      "     Verdadeiro  Predição\n",
      "522           0         0\n",
      "720           0         0\n",
      "658           0         0\n",
      "442           0         0\n",
      "118           0         0\n",
      "..          ...       ...\n",
      "344           0         1\n",
      "55            0         0\n",
      "123           0         0\n",
      "476           1         0\n",
      "705           0         0\n",
      "\n",
      "[231 rows x 2 columns]\n",
      "Acurácia: 0.645021645021645\n",
      "Precisão: 0.42857142857142855\n",
      "Recall: 0.5652173913043478\n",
      "F1-score: 0.4875\n"
     ]
    },
    {
     "data": {
      "image/png": "[encoded data removed]",
      "text/plain": [
       "<Figure size 432x288 with 2 Axes>"
      ]
     },
     "metadata": {
      "needs_background": "light"
     },
     "output_type": "display_data"
    }
   ],
   "source": [
    "# Gerando previsões usando o modelo de Árvore de Decisão\n",
    "yPredDT = modelDT.predict(XTest)\n",
    "\n",
    "# Criando um DataFrame que compara os rótulos verdadeiros com as previsões\n",
    "df_resultado_dt = pd.DataFrame({'Verdadeiro': yTest, 'Predição': yPredDT})\n",
    "print(\"Comparação - Árvore de Decisão\")\n",
    "print(df_resultado_dt)\n",
    "\n",
    "# Calculando e imprima métricas de desempenho\n",
    "accuracy_dt = accuracy_score(yTest, yPredDT)\n",
    "precision_dt = precision_score(yTest, yPredDT)\n",
    "recall_dt = recall_score(yTest, yPredDT)\n",
    "f1_dt = f1_score(yTest, yPredDT)\n",
    "\n",
    "print(f\"Acurácia: {accuracy_dt}\")\n",
    "print(f\"Precisão: {precision_dt}\")\n",
    "print(f\"Recall: {recall_dt}\")\n",
    "print(f\"F1-score: {f1_dt}\")\n",
    "\n",
    "# Calculando a matriz de confusão usando sklearn\n",
    "matriz_dt = confusion_matrix(yTest, yPredDT)\n",
    "\n",
    "# Criando uma exibição da matriz de confusão e a exiba\n",
    "disp_dt = ConfusionMatrixDisplay(confusion_matrix=matriz_dt)\n",
    "disp_dt.plot()\n",
    "plt.show()"
   ]
  },
  {
   "cell_type": "markdown",
   "id": "9d6d6269",
   "metadata": {},
   "source": [
    "# Observações:"
   ]
  },
  {
   "cell_type": "markdown",
   "id": "11cf8849",
   "metadata": {},
   "source": [
    "# Regressão Logistica:\n",
    "\n",
    "Acurácia: 0.7705627705627706  -> O modelo classificou corretamente cerca de 77.06%.\n",
    "                              \n",
    "Precisão: 0.6290322580645161  -> O modelo classificou como positivas, cerca de 62.90% eram realmente positivas.\n",
    "                              Indica a habilidade do modelo em evitar falsos positivos.\n",
    "\n",
    "Recall: 0.5652173913043478    -> O modelo identificou corretamente cerca de 56.52% das instâncias que eram realmente positivas.\n",
    "                              Destaca a capacidade do modelo de capturar instâncias realmente positivas.\n",
    "\n",
    "F1-score: 0.5954198473282443  -> Aproximadamente 59.54% sugere um equilíbrio entre a precisão e recall no modelo.\n",
    "\n"
   ]
  },
  {
   "cell_type": "markdown",
   "id": "78b7b786",
   "metadata": {},
   "source": [
    "# Modelo KNN:"
   ]
  },
  {
   "cell_type": "markdown",
   "id": "0533f0bc",
   "metadata": {},
   "source": [
    "Acurácia: 0.7489177489177489 -> O modelo KNN classificou corretamente cerca de 74.89% \n",
    "\n",
    "Precisão: 0.5679012345679012 -> O modelo classificou como positivas, cerca de 56.79% eram realmente positivas.\n",
    "                                Destaca a habilidade do modelo em evitar falsos positivos.\n",
    "\n",
    "Recall: 0.6666666666666666  -> O modelo KNN identificou corretamente cerca de 66.67% das instâncias que eram realmente positivas.\n",
    "                               Indica a capacidade do modelo KNN de capturar instâncias realmente positivas.\n",
    "\n",
    "F1-score: 0.6133333333333333 -> Aproximadamente 61.33% sugere um equilíbrio entre precisão e recall no modelo KNN."
   ]
  },
  {
   "cell_type": "markdown",
   "id": "d16f0246",
   "metadata": {},
   "source": [
    "# Modelo Árvore de Decisão"
   ]
  },
  {
   "cell_type": "markdown",
   "id": "871175c5",
   "metadata": {},
   "source": [
    "Acurácia: 0.645021645021645    -> O modelo de Árvore de Decisão classificou corretamente cerca de 64.50%. \n",
    "\n",
    "Precisão: 0.42857142857142855  -> Aproximadamente 42.86% significa que, das instâncias que o modelo classificou como positivas, cerca de 42.86% eram realmente positivas. Destaca a habilidade do modelo em evitar falsos positivos.\n",
    "\n",
    "Recall: 0.5652173913043478     -> O modelo de Árvore de Decisão identificou corretamente cerca de 56.52% das instâncias que eram realmente positivas. Indica a capacidade do modelo de Árvore de Decisão de capturar instâncias realmente positivas.\n",
    "\n",
    "F1-score: 0.4875  -> Aproximadamente 48.75% sugere um equilíbrio entre precisão e recall no modelo de Árvore de Decisão."
   ]
  },
  {
   "cell_type": "code",
   "execution_count": null,
   "id": "7085ab57",
   "metadata": {},
   "outputs": [],
   "source": []
  }
 ],
 "metadata": {
  "kernelspec": {
   "display_name": "Python 3 (ipykernel)",
   "language": "python",
   "name": "python3"
  },
  "language_info": {
   "codemirror_mode": {
    "name": "ipython",
    "version": 3
   },
   "file_extension": ".py",
   "mimetype": "text/x-python",
   "name": "python",
   "nbconvert_exporter": "python",
   "pygments_lexer": "ipython3",
   "version": "3.9.12"
  }
 },
 "nbformat": 4,
 "nbformat_minor": 5
}
